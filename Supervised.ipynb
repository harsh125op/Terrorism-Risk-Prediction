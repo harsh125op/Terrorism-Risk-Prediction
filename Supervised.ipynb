{
 "cells": [
  {
   "cell_type": "code",
   "execution_count": 1,
   "id": "c49287ad",
   "metadata": {},
   "outputs": [],
   "source": [
    "import pandas as pd\n",
    "from sklearn.model_selection import train_test_split\n",
    "from sklearn.preprocessing import LabelEncoder\n"
   ]
  },
  {
   "cell_type": "code",
   "execution_count": 3,
   "id": "4c944f6b",
   "metadata": {},
   "outputs": [],
   "source": [
    "#load data\n",
    "df = pd.read_csv(r\"dataset\\updated_file_with_risk_level.csv\")"
   ]
  },
  {
   "cell_type": "code",
   "execution_count": 7,
   "id": "1ab20db0",
   "metadata": {},
   "outputs": [
    {
     "data": {
      "text/html": [
       "<div>\n",
       "<style scoped>\n",
       "    .dataframe tbody tr th:only-of-type {\n",
       "        vertical-align: middle;\n",
       "    }\n",
       "\n",
       "    .dataframe tbody tr th {\n",
       "        vertical-align: top;\n",
       "    }\n",
       "\n",
       "    .dataframe thead th {\n",
       "        text-align: right;\n",
       "    }\n",
       "</style>\n",
       "<table border=\"1\" class=\"dataframe\">\n",
       "  <thead>\n",
       "    <tr style=\"text-align: right;\">\n",
       "      <th></th>\n",
       "      <th>Date</th>\n",
       "      <th>State</th>\n",
       "      <th>City</th>\n",
       "      <th>Attack Type</th>\n",
       "      <th>Target Type</th>\n",
       "      <th>Casualties</th>\n",
       "      <th>Perpetrators</th>\n",
       "      <th>Weapons Used</th>\n",
       "      <th>Sources</th>\n",
       "      <th>Summary</th>\n",
       "      <th>Year</th>\n",
       "      <th>Months</th>\n",
       "      <th>Risk</th>\n",
       "    </tr>\n",
       "  </thead>\n",
       "  <tbody>\n",
       "    <tr>\n",
       "      <th>0</th>\n",
       "      <td>2005-03-28</td>\n",
       "      <td>Jammu and Kashmir</td>\n",
       "      <td>Pulwama</td>\n",
       "      <td>Hijacking</td>\n",
       "      <td>Public Infrastructure</td>\n",
       "      <td>40</td>\n",
       "      <td>Terrorist Group B</td>\n",
       "      <td>Explosives</td>\n",
       "      <td>https://news.example.com/8568</td>\n",
       "      <td>On 2005-03-28, a hijacking targeted public inf...</td>\n",
       "      <td>2005</td>\n",
       "      <td>3</td>\n",
       "      <td>High Risk</td>\n",
       "    </tr>\n",
       "    <tr>\n",
       "      <th>1</th>\n",
       "      <td>2006-01-15</td>\n",
       "      <td>West Bengal</td>\n",
       "      <td>Kolkata</td>\n",
       "      <td>Suicide Attack</td>\n",
       "      <td>Military</td>\n",
       "      <td>1</td>\n",
       "      <td>Maoist Rebels</td>\n",
       "      <td>Explosives</td>\n",
       "      <td>https://news.example.com/5309</td>\n",
       "      <td>On 2006-01-15, a suicide attack targeted milit...</td>\n",
       "      <td>2006</td>\n",
       "      <td>1</td>\n",
       "      <td>Low Risk</td>\n",
       "    </tr>\n",
       "    <tr>\n",
       "      <th>2</th>\n",
       "      <td>2010-08-08</td>\n",
       "      <td>Maharashtra</td>\n",
       "      <td>Nagpur</td>\n",
       "      <td>Shooting</td>\n",
       "      <td>Military</td>\n",
       "      <td>4</td>\n",
       "      <td>Terrorist Group A</td>\n",
       "      <td>Explosives</td>\n",
       "      <td>https://news.example.com/9938</td>\n",
       "      <td>On 2010-08-08, a shooting targeted military in...</td>\n",
       "      <td>2010</td>\n",
       "      <td>8</td>\n",
       "      <td>Low Risk</td>\n",
       "    </tr>\n",
       "    <tr>\n",
       "      <th>3</th>\n",
       "      <td>2001-04-26</td>\n",
       "      <td>Assam</td>\n",
       "      <td>Tezpur</td>\n",
       "      <td>Arson</td>\n",
       "      <td>Civilians</td>\n",
       "      <td>1</td>\n",
       "      <td>Terrorist Group B</td>\n",
       "      <td>Guns</td>\n",
       "      <td>https://news.example.com/8364</td>\n",
       "      <td>On 2001-04-26, a arson targeted civilians in T...</td>\n",
       "      <td>2001</td>\n",
       "      <td>4</td>\n",
       "      <td>Low Risk</td>\n",
       "    </tr>\n",
       "    <tr>\n",
       "      <th>4</th>\n",
       "      <td>2019-08-25</td>\n",
       "      <td>Jharkhand</td>\n",
       "      <td>Dhanbad</td>\n",
       "      <td>Hijacking</td>\n",
       "      <td>Government Officials</td>\n",
       "      <td>46</td>\n",
       "      <td>Maoist Rebels</td>\n",
       "      <td>Guns</td>\n",
       "      <td>https://news.example.com/8902</td>\n",
       "      <td>On 2019-08-25, a hijacking targeted government...</td>\n",
       "      <td>2019</td>\n",
       "      <td>8</td>\n",
       "      <td>High Risk</td>\n",
       "    </tr>\n",
       "  </tbody>\n",
       "</table>\n",
       "</div>"
      ],
      "text/plain": [
       "         Date              State     City     Attack Type  \\\n",
       "0  2005-03-28  Jammu and Kashmir  Pulwama       Hijacking   \n",
       "1  2006-01-15        West Bengal  Kolkata  Suicide Attack   \n",
       "2  2010-08-08        Maharashtra   Nagpur        Shooting   \n",
       "3  2001-04-26              Assam   Tezpur           Arson   \n",
       "4  2019-08-25          Jharkhand  Dhanbad       Hijacking   \n",
       "\n",
       "             Target Type  Casualties       Perpetrators Weapons Used  \\\n",
       "0  Public Infrastructure          40  Terrorist Group B   Explosives   \n",
       "1               Military           1      Maoist Rebels   Explosives   \n",
       "2               Military           4  Terrorist Group A   Explosives   \n",
       "3              Civilians           1  Terrorist Group B         Guns   \n",
       "4   Government Officials          46      Maoist Rebels         Guns   \n",
       "\n",
       "                         Sources  \\\n",
       "0  https://news.example.com/8568   \n",
       "1  https://news.example.com/5309   \n",
       "2  https://news.example.com/9938   \n",
       "3  https://news.example.com/8364   \n",
       "4  https://news.example.com/8902   \n",
       "\n",
       "                                             Summary  Year  Months       Risk  \n",
       "0  On 2005-03-28, a hijacking targeted public inf...  2005       3  High Risk  \n",
       "1  On 2006-01-15, a suicide attack targeted milit...  2006       1   Low Risk  \n",
       "2  On 2010-08-08, a shooting targeted military in...  2010       8   Low Risk  \n",
       "3  On 2001-04-26, a arson targeted civilians in T...  2001       4   Low Risk  \n",
       "4  On 2019-08-25, a hijacking targeted government...  2019       8  High Risk  "
      ]
     },
     "execution_count": 7,
     "metadata": {},
     "output_type": "execute_result"
    }
   ],
   "source": [
    "df.head()"
   ]
  },
  {
   "cell_type": "code",
   "execution_count": 9,
   "id": "384e727b",
   "metadata": {},
   "outputs": [
    {
     "data": {
      "text/plain": [
       "Index(['Date', 'State', 'City', 'Attack Type', 'Target Type', 'Casualties',\n",
       "       'Perpetrators', 'Weapons Used', 'Sources', 'Summary', 'Year', 'Months',\n",
       "       'Risk'],\n",
       "      dtype='object')"
      ]
     },
     "execution_count": 9,
     "metadata": {},
     "output_type": "execute_result"
    }
   ],
   "source": [
    "df.columns"
   ]
  },
  {
   "cell_type": "code",
   "execution_count": 10,
   "id": "ed4ea428",
   "metadata": {},
   "outputs": [],
   "source": [
    "# Select features\n",
    "features = ['State', 'City', 'Attack Type', 'Target Type', 'Weapons Used', 'Year', 'Months']\n",
    "X = df[features]\n",
    "y = df['Risk']"
   ]
  },
  {
   "cell_type": "code",
   "execution_count": 12,
   "id": "30ba1861",
   "metadata": {},
   "outputs": [
    {
     "name": "stderr",
     "output_type": "stream",
     "text": [
      "C:\\Users\\ASUS\\AppData\\Local\\Temp\\ipykernel_28328\\1611421765.py:5: SettingWithCopyWarning: \n",
      "A value is trying to be set on a copy of a slice from a DataFrame.\n",
      "Try using .loc[row_indexer,col_indexer] = value instead\n",
      "\n",
      "See the caveats in the documentation: https://pandas.pydata.org/pandas-docs/stable/user_guide/indexing.html#returning-a-view-versus-a-copy\n",
      "  X[column] = le.fit_transform(X[column])\n",
      "C:\\Users\\ASUS\\AppData\\Local\\Temp\\ipykernel_28328\\1611421765.py:5: SettingWithCopyWarning: \n",
      "A value is trying to be set on a copy of a slice from a DataFrame.\n",
      "Try using .loc[row_indexer,col_indexer] = value instead\n",
      "\n",
      "See the caveats in the documentation: https://pandas.pydata.org/pandas-docs/stable/user_guide/indexing.html#returning-a-view-versus-a-copy\n",
      "  X[column] = le.fit_transform(X[column])\n",
      "C:\\Users\\ASUS\\AppData\\Local\\Temp\\ipykernel_28328\\1611421765.py:5: SettingWithCopyWarning: \n",
      "A value is trying to be set on a copy of a slice from a DataFrame.\n",
      "Try using .loc[row_indexer,col_indexer] = value instead\n",
      "\n",
      "See the caveats in the documentation: https://pandas.pydata.org/pandas-docs/stable/user_guide/indexing.html#returning-a-view-versus-a-copy\n",
      "  X[column] = le.fit_transform(X[column])\n",
      "C:\\Users\\ASUS\\AppData\\Local\\Temp\\ipykernel_28328\\1611421765.py:5: SettingWithCopyWarning: \n",
      "A value is trying to be set on a copy of a slice from a DataFrame.\n",
      "Try using .loc[row_indexer,col_indexer] = value instead\n",
      "\n",
      "See the caveats in the documentation: https://pandas.pydata.org/pandas-docs/stable/user_guide/indexing.html#returning-a-view-versus-a-copy\n",
      "  X[column] = le.fit_transform(X[column])\n",
      "C:\\Users\\ASUS\\AppData\\Local\\Temp\\ipykernel_28328\\1611421765.py:5: SettingWithCopyWarning: \n",
      "A value is trying to be set on a copy of a slice from a DataFrame.\n",
      "Try using .loc[row_indexer,col_indexer] = value instead\n",
      "\n",
      "See the caveats in the documentation: https://pandas.pydata.org/pandas-docs/stable/user_guide/indexing.html#returning-a-view-versus-a-copy\n",
      "  X[column] = le.fit_transform(X[column])\n"
     ]
    }
   ],
   "source": [
    "# 2. Encode Categorical Variables\n",
    "label_encoders = {}\n",
    "for column in ['State', 'City', 'Attack Type', 'Target Type', 'Weapons Used']:\n",
    "    le = LabelEncoder()\n",
    "    X[column] = le.fit_transform(X[column])\n",
    "    label_encoders[column] = le # Store the encoders for later use"
   ]
  },
  {
   "cell_type": "code",
   "execution_count": null,
   "id": "66f268fa",
   "metadata": {},
   "outputs": [],
   "source": []
  }
 ],
 "metadata": {
  "kernelspec": {
   "display_name": "Ml_learning_env",
   "language": "python",
   "name": "python3"
  },
  "language_info": {
   "codemirror_mode": {
    "name": "ipython",
    "version": 3
   },
   "file_extension": ".py",
   "mimetype": "text/x-python",
   "name": "python",
   "nbconvert_exporter": "python",
   "pygments_lexer": "ipython3",
   "version": "3.12.4"
  }
 },
 "nbformat": 4,
 "nbformat_minor": 5
}
