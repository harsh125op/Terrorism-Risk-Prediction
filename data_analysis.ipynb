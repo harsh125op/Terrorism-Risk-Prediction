{
 "cells": [
  {
   "cell_type": "markdown",
   "id": "70a53c2f",
   "metadata": {},
   "source": [
    "# Lets start the project with data analysis"
   ]
  },
  {
   "cell_type": "code",
   "execution_count": 2,
   "id": "e2bc2214",
   "metadata": {},
   "outputs": [],
   "source": [
    "#import required libraries and packages\n",
    "import pandas as pd\n",
    "import matplotlib.pyplot as plt\n",
    "import seaborn as sns\n",
    "import numpy as np"
   ]
  },
  {
   "cell_type": "code",
   "execution_count": 3,
   "id": "8bb18dc7",
   "metadata": {},
   "outputs": [
    {
     "name": "stderr",
     "output_type": "stream",
     "text": [
      "<>:2: SyntaxWarning: invalid escape sequence '\\i'\n",
      "<>:2: SyntaxWarning: invalid escape sequence '\\i'\n",
      "C:\\Users\\ASUS\\AppData\\Local\\Temp\\ipykernel_13136\\3867222062.py:2: SyntaxWarning: invalid escape sequence '\\i'\n",
      "  df = pd.read_csv(\"dataset\\india_terrorism_database_with_summary.csv\")\n"
     ]
    }
   ],
   "source": [
    "#load the data\n",
    "df = pd.read_csv(\"dataset\\india_terrorism_database_with_summary.csv\")"
   ]
  },
  {
   "cell_type": "code",
   "execution_count": 13,
   "id": "dcbff9d5",
   "metadata": {},
   "outputs": [
    {
     "data": {
      "text/plain": [
       "Index(['Date', 'State', 'City', 'Attack Type', 'Target Type', 'Casualties',\n",
       "       'Perpetrators', 'Weapons Used', 'Sources', 'Summary'],\n",
       "      dtype='object')"
      ]
     },
     "execution_count": 13,
     "metadata": {},
     "output_type": "execute_result"
    }
   ],
   "source": [
    "#check columns\n",
    "df.columns"
   ]
  },
  {
   "cell_type": "code",
   "execution_count": 5,
   "id": "ce030be3",
   "metadata": {},
   "outputs": [
    {
     "data": {
      "text/html": [
       "<div>\n",
       "<style scoped>\n",
       "    .dataframe tbody tr th:only-of-type {\n",
       "        vertical-align: middle;\n",
       "    }\n",
       "\n",
       "    .dataframe tbody tr th {\n",
       "        vertical-align: top;\n",
       "    }\n",
       "\n",
       "    .dataframe thead th {\n",
       "        text-align: right;\n",
       "    }\n",
       "</style>\n",
       "<table border=\"1\" class=\"dataframe\">\n",
       "  <thead>\n",
       "    <tr style=\"text-align: right;\">\n",
       "      <th></th>\n",
       "      <th>Date</th>\n",
       "      <th>State</th>\n",
       "      <th>City</th>\n",
       "      <th>Attack Type</th>\n",
       "      <th>Target Type</th>\n",
       "      <th>Casualties</th>\n",
       "      <th>Perpetrators</th>\n",
       "      <th>Weapons Used</th>\n",
       "      <th>Sources</th>\n",
       "      <th>Summary</th>\n",
       "    </tr>\n",
       "  </thead>\n",
       "  <tbody>\n",
       "    <tr>\n",
       "      <th>0</th>\n",
       "      <td>3/28/2005</td>\n",
       "      <td>Jammu and Kashmir</td>\n",
       "      <td>Pulwama</td>\n",
       "      <td>Hijacking</td>\n",
       "      <td>Public Infrastructure</td>\n",
       "      <td>40</td>\n",
       "      <td>Terrorist Group B</td>\n",
       "      <td>Explosives</td>\n",
       "      <td>https://news.example.com/8568</td>\n",
       "      <td>On 2005-03-28, a hijacking targeted public inf...</td>\n",
       "    </tr>\n",
       "    <tr>\n",
       "      <th>1</th>\n",
       "      <td>1/15/2006</td>\n",
       "      <td>West Bengal</td>\n",
       "      <td>Kolkata</td>\n",
       "      <td>Suicide Attack</td>\n",
       "      <td>Military</td>\n",
       "      <td>1</td>\n",
       "      <td>Maoist Rebels</td>\n",
       "      <td>Explosives</td>\n",
       "      <td>https://news.example.com/5309</td>\n",
       "      <td>On 2006-01-15, a suicide attack targeted milit...</td>\n",
       "    </tr>\n",
       "    <tr>\n",
       "      <th>2</th>\n",
       "      <td>8/8/2010</td>\n",
       "      <td>Maharashtra</td>\n",
       "      <td>Nagpur</td>\n",
       "      <td>Shooting</td>\n",
       "      <td>Military</td>\n",
       "      <td>4</td>\n",
       "      <td>Terrorist Group A</td>\n",
       "      <td>Explosives</td>\n",
       "      <td>https://news.example.com/9938</td>\n",
       "      <td>On 2010-08-08, a shooting targeted military in...</td>\n",
       "    </tr>\n",
       "    <tr>\n",
       "      <th>3</th>\n",
       "      <td>4/26/2001</td>\n",
       "      <td>Assam</td>\n",
       "      <td>Tezpur</td>\n",
       "      <td>Arson</td>\n",
       "      <td>Civilians</td>\n",
       "      <td>1</td>\n",
       "      <td>Terrorist Group B</td>\n",
       "      <td>Guns</td>\n",
       "      <td>https://news.example.com/8364</td>\n",
       "      <td>On 2001-04-26, a arson targeted civilians in T...</td>\n",
       "    </tr>\n",
       "    <tr>\n",
       "      <th>4</th>\n",
       "      <td>8/25/2019</td>\n",
       "      <td>Jharkhand</td>\n",
       "      <td>Dhanbad</td>\n",
       "      <td>Hijacking</td>\n",
       "      <td>Government Officials</td>\n",
       "      <td>46</td>\n",
       "      <td>Maoist Rebels</td>\n",
       "      <td>Guns</td>\n",
       "      <td>https://news.example.com/8902</td>\n",
       "      <td>On 2019-08-25, a hijacking targeted government...</td>\n",
       "    </tr>\n",
       "  </tbody>\n",
       "</table>\n",
       "</div>"
      ],
      "text/plain": [
       "        Date              State     City     Attack Type  \\\n",
       "0  3/28/2005  Jammu and Kashmir  Pulwama       Hijacking   \n",
       "1  1/15/2006        West Bengal  Kolkata  Suicide Attack   \n",
       "2   8/8/2010        Maharashtra   Nagpur        Shooting   \n",
       "3  4/26/2001              Assam   Tezpur           Arson   \n",
       "4  8/25/2019          Jharkhand  Dhanbad       Hijacking   \n",
       "\n",
       "             Target Type  Casualties       Perpetrators Weapons Used  \\\n",
       "0  Public Infrastructure          40  Terrorist Group B   Explosives   \n",
       "1               Military           1      Maoist Rebels   Explosives   \n",
       "2               Military           4  Terrorist Group A   Explosives   \n",
       "3              Civilians           1  Terrorist Group B         Guns   \n",
       "4   Government Officials          46      Maoist Rebels         Guns   \n",
       "\n",
       "                         Sources  \\\n",
       "0  https://news.example.com/8568   \n",
       "1  https://news.example.com/5309   \n",
       "2  https://news.example.com/9938   \n",
       "3  https://news.example.com/8364   \n",
       "4  https://news.example.com/8902   \n",
       "\n",
       "                                             Summary  \n",
       "0  On 2005-03-28, a hijacking targeted public inf...  \n",
       "1  On 2006-01-15, a suicide attack targeted milit...  \n",
       "2  On 2010-08-08, a shooting targeted military in...  \n",
       "3  On 2001-04-26, a arson targeted civilians in T...  \n",
       "4  On 2019-08-25, a hijacking targeted government...  "
      ]
     },
     "execution_count": 5,
     "metadata": {},
     "output_type": "execute_result"
    }
   ],
   "source": [
    "#dislpay first 5 rows of data\n",
    "df.head()"
   ]
  },
  {
   "cell_type": "code",
   "execution_count": 6,
   "id": "c671aa16",
   "metadata": {},
   "outputs": [
    {
     "data": {
      "text/html": [
       "<div>\n",
       "<style scoped>\n",
       "    .dataframe tbody tr th:only-of-type {\n",
       "        vertical-align: middle;\n",
       "    }\n",
       "\n",
       "    .dataframe tbody tr th {\n",
       "        vertical-align: top;\n",
       "    }\n",
       "\n",
       "    .dataframe thead th {\n",
       "        text-align: right;\n",
       "    }\n",
       "</style>\n",
       "<table border=\"1\" class=\"dataframe\">\n",
       "  <thead>\n",
       "    <tr style=\"text-align: right;\">\n",
       "      <th></th>\n",
       "      <th>Date</th>\n",
       "      <th>State</th>\n",
       "      <th>City</th>\n",
       "      <th>Attack Type</th>\n",
       "      <th>Target Type</th>\n",
       "      <th>Casualties</th>\n",
       "      <th>Perpetrators</th>\n",
       "      <th>Weapons Used</th>\n",
       "      <th>Sources</th>\n",
       "      <th>Summary</th>\n",
       "    </tr>\n",
       "  </thead>\n",
       "  <tbody>\n",
       "    <tr>\n",
       "      <th>95</th>\n",
       "      <td>2/20/2015</td>\n",
       "      <td>Assam</td>\n",
       "      <td>Guwahati</td>\n",
       "      <td>Suicide Attack</td>\n",
       "      <td>Police</td>\n",
       "      <td>4</td>\n",
       "      <td>Maoist Rebels</td>\n",
       "      <td>Molotov Cocktails</td>\n",
       "      <td>https://news.example.com/8726</td>\n",
       "      <td>On 2015-02-20, a suicide attack targeted polic...</td>\n",
       "    </tr>\n",
       "    <tr>\n",
       "      <th>96</th>\n",
       "      <td>11/25/2004</td>\n",
       "      <td>Punjab</td>\n",
       "      <td>Jalandhar</td>\n",
       "      <td>Arson</td>\n",
       "      <td>Public Infrastructure</td>\n",
       "      <td>33</td>\n",
       "      <td>Terrorist Group A</td>\n",
       "      <td>IEDs</td>\n",
       "      <td>https://news.example.com/7485</td>\n",
       "      <td>On 2004-11-25, a arson targeted public infrast...</td>\n",
       "    </tr>\n",
       "    <tr>\n",
       "      <th>97</th>\n",
       "      <td>1/14/2006</td>\n",
       "      <td>Chhattisgarh</td>\n",
       "      <td>Dantewada</td>\n",
       "      <td>Hijacking</td>\n",
       "      <td>Police</td>\n",
       "      <td>27</td>\n",
       "      <td>Terrorist Group A</td>\n",
       "      <td>IEDs</td>\n",
       "      <td>https://news.example.com/9473</td>\n",
       "      <td>On 2006-01-14, a hijacking targeted police in ...</td>\n",
       "    </tr>\n",
       "    <tr>\n",
       "      <th>98</th>\n",
       "      <td>11/2/2004</td>\n",
       "      <td>Uttar Pradesh</td>\n",
       "      <td>Kanpur</td>\n",
       "      <td>Suicide Attack</td>\n",
       "      <td>Public Infrastructure</td>\n",
       "      <td>11</td>\n",
       "      <td>Unknown</td>\n",
       "      <td>Guns</td>\n",
       "      <td>https://news.example.com/1628</td>\n",
       "      <td>On 2004-11-02, a suicide attack targeted publi...</td>\n",
       "    </tr>\n",
       "    <tr>\n",
       "      <th>99</th>\n",
       "      <td>11/25/2001</td>\n",
       "      <td>Maharashtra</td>\n",
       "      <td>Mumbai</td>\n",
       "      <td>Suicide Attack</td>\n",
       "      <td>Military</td>\n",
       "      <td>47</td>\n",
       "      <td>Unknown</td>\n",
       "      <td>Guns</td>\n",
       "      <td>https://news.example.com/2972</td>\n",
       "      <td>On 2001-11-25, a suicide attack targeted milit...</td>\n",
       "    </tr>\n",
       "  </tbody>\n",
       "</table>\n",
       "</div>"
      ],
      "text/plain": [
       "          Date          State       City     Attack Type  \\\n",
       "95   2/20/2015          Assam   Guwahati  Suicide Attack   \n",
       "96  11/25/2004         Punjab  Jalandhar           Arson   \n",
       "97   1/14/2006   Chhattisgarh  Dantewada       Hijacking   \n",
       "98   11/2/2004  Uttar Pradesh     Kanpur  Suicide Attack   \n",
       "99  11/25/2001    Maharashtra     Mumbai  Suicide Attack   \n",
       "\n",
       "              Target Type  Casualties       Perpetrators       Weapons Used  \\\n",
       "95                 Police           4      Maoist Rebels  Molotov Cocktails   \n",
       "96  Public Infrastructure          33  Terrorist Group A               IEDs   \n",
       "97                 Police          27  Terrorist Group A               IEDs   \n",
       "98  Public Infrastructure          11            Unknown               Guns   \n",
       "99               Military          47            Unknown               Guns   \n",
       "\n",
       "                          Sources  \\\n",
       "95  https://news.example.com/8726   \n",
       "96  https://news.example.com/7485   \n",
       "97  https://news.example.com/9473   \n",
       "98  https://news.example.com/1628   \n",
       "99  https://news.example.com/2972   \n",
       "\n",
       "                                              Summary  \n",
       "95  On 2015-02-20, a suicide attack targeted polic...  \n",
       "96  On 2004-11-25, a arson targeted public infrast...  \n",
       "97  On 2006-01-14, a hijacking targeted police in ...  \n",
       "98  On 2004-11-02, a suicide attack targeted publi...  \n",
       "99  On 2001-11-25, a suicide attack targeted milit...  "
      ]
     },
     "execution_count": 6,
     "metadata": {},
     "output_type": "execute_result"
    }
   ],
   "source": [
    "#dislpay last 5 rows of data\n",
    "df.tail()"
   ]
  },
  {
   "cell_type": "code",
   "execution_count": 7,
   "id": "d122a7b4",
   "metadata": {},
   "outputs": [
    {
     "name": "stdout",
     "output_type": "stream",
     "text": [
      "<class 'pandas.core.frame.DataFrame'>\n",
      "RangeIndex: 100 entries, 0 to 99\n",
      "Data columns (total 10 columns):\n",
      " #   Column        Non-Null Count  Dtype \n",
      "---  ------        --------------  ----- \n",
      " 0   Date          100 non-null    object\n",
      " 1   State         100 non-null    object\n",
      " 2   City          100 non-null    object\n",
      " 3   Attack Type   100 non-null    object\n",
      " 4   Target Type   100 non-null    object\n",
      " 5   Casualties    100 non-null    int64 \n",
      " 6   Perpetrators  100 non-null    object\n",
      " 7   Weapons Used  100 non-null    object\n",
      " 8   Sources       100 non-null    object\n",
      " 9   Summary       100 non-null    object\n",
      "dtypes: int64(1), object(9)\n",
      "memory usage: 7.9+ KB\n"
     ]
    }
   ],
   "source": [
    "# Information about the data\n",
    "df.info()"
   ]
  },
  {
   "cell_type": "code",
   "execution_count": 9,
   "id": "16e9286d",
   "metadata": {},
   "outputs": [
    {
     "data": {
      "text/plain": [
       "(100, 10)"
      ]
     },
     "execution_count": 9,
     "metadata": {},
     "output_type": "execute_result"
    }
   ],
   "source": [
    "# Display the shape i.e number of rows and column\n",
    "df.shape"
   ]
  },
  {
   "cell_type": "code",
   "execution_count": 10,
   "id": "88b3a6a7",
   "metadata": {},
   "outputs": [
    {
     "data": {
      "text/plain": [
       "Date            0\n",
       "State           0\n",
       "City            0\n",
       "Attack Type     0\n",
       "Target Type     0\n",
       "Casualties      0\n",
       "Perpetrators    0\n",
       "Weapons Used    0\n",
       "Sources         0\n",
       "Summary         0\n",
       "dtype: int64"
      ]
     },
     "execution_count": 10,
     "metadata": {},
     "output_type": "execute_result"
    }
   ],
   "source": [
    "#check for null data\n",
    "df.isnull().sum()"
   ]
  },
  {
   "cell_type": "code",
   "execution_count": 11,
   "id": "95b6739f",
   "metadata": {},
   "outputs": [
    {
     "data": {
      "text/html": [
       "<div>\n",
       "<style scoped>\n",
       "    .dataframe tbody tr th:only-of-type {\n",
       "        vertical-align: middle;\n",
       "    }\n",
       "\n",
       "    .dataframe tbody tr th {\n",
       "        vertical-align: top;\n",
       "    }\n",
       "\n",
       "    .dataframe thead th {\n",
       "        text-align: right;\n",
       "    }\n",
       "</style>\n",
       "<table border=\"1\" class=\"dataframe\">\n",
       "  <thead>\n",
       "    <tr style=\"text-align: right;\">\n",
       "      <th></th>\n",
       "      <th>Casualties</th>\n",
       "    </tr>\n",
       "  </thead>\n",
       "  <tbody>\n",
       "    <tr>\n",
       "      <th>count</th>\n",
       "      <td>100.000000</td>\n",
       "    </tr>\n",
       "    <tr>\n",
       "      <th>mean</th>\n",
       "      <td>25.130000</td>\n",
       "    </tr>\n",
       "    <tr>\n",
       "      <th>std</th>\n",
       "      <td>14.800802</td>\n",
       "    </tr>\n",
       "    <tr>\n",
       "      <th>min</th>\n",
       "      <td>0.000000</td>\n",
       "    </tr>\n",
       "    <tr>\n",
       "      <th>25%</th>\n",
       "      <td>12.750000</td>\n",
       "    </tr>\n",
       "    <tr>\n",
       "      <th>50%</th>\n",
       "      <td>26.500000</td>\n",
       "    </tr>\n",
       "    <tr>\n",
       "      <th>75%</th>\n",
       "      <td>37.250000</td>\n",
       "    </tr>\n",
       "    <tr>\n",
       "      <th>max</th>\n",
       "      <td>50.000000</td>\n",
       "    </tr>\n",
       "  </tbody>\n",
       "</table>\n",
       "</div>"
      ],
      "text/plain": [
       "       Casualties\n",
       "count  100.000000\n",
       "mean    25.130000\n",
       "std     14.800802\n",
       "min      0.000000\n",
       "25%     12.750000\n",
       "50%     26.500000\n",
       "75%     37.250000\n",
       "max     50.000000"
      ]
     },
     "execution_count": 11,
     "metadata": {},
     "output_type": "execute_result"
    }
   ],
   "source": [
    "df.describe()"
   ]
  },
  {
   "cell_type": "code",
   "execution_count": null,
   "id": "70573aac",
   "metadata": {},
   "outputs": [],
   "source": []
  }
 ],
 "metadata": {
  "kernelspec": {
   "display_name": "Ml_learning_env",
   "language": "python",
   "name": "python3"
  },
  "language_info": {
   "codemirror_mode": {
    "name": "ipython",
    "version": 3
   },
   "file_extension": ".py",
   "mimetype": "text/x-python",
   "name": "python",
   "nbconvert_exporter": "python",
   "pygments_lexer": "ipython3",
   "version": "3.12.4"
  }
 },
 "nbformat": 4,
 "nbformat_minor": 5
}
