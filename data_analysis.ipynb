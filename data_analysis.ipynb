{
 "cells": [
  {
   "cell_type": "markdown",
   "id": "70a53c2f",
   "metadata": {},
   "source": [
    "# Lets start the project with data analysis"
   ]
  },
  {
   "cell_type": "code",
   "execution_count": 2,
   "id": "e2bc2214",
   "metadata": {},
   "outputs": [],
   "source": [
    "#import required libraries and packages\n",
    "import pandas as pd\n",
    "import matplotlib.pyplot as plt\n",
    "import seaborn as sns\n",
    "import numpy as np"
   ]
  },
  {
   "cell_type": "code",
   "execution_count": 3,
   "id": "8bb18dc7",
   "metadata": {},
   "outputs": [
    {
     "name": "stderr",
     "output_type": "stream",
     "text": [
      "<>:2: SyntaxWarning: invalid escape sequence '\\i'\n",
      "<>:2: SyntaxWarning: invalid escape sequence '\\i'\n",
      "C:\\Users\\ASUS\\AppData\\Local\\Temp\\ipykernel_13136\\3867222062.py:2: SyntaxWarning: invalid escape sequence '\\i'\n",
      "  df = pd.read_csv(\"dataset\\india_terrorism_database_with_summary.csv\")\n"
     ]
    }
   ],
   "source": [
    "#load the data\n",
    "df = pd.read_csv(\"dataset\\india_terrorism_database_with_summary.csv\")"
   ]
  },
  {
   "cell_type": "code",
   "execution_count": null,
   "id": "ce030be3",
   "metadata": {},
   "outputs": [
    {
     "data": {
      "text/html": [
       "<div>\n",
       "<style scoped>\n",
       "    .dataframe tbody tr th:only-of-type {\n",
       "        vertical-align: middle;\n",
       "    }\n",
       "\n",
       "    .dataframe tbody tr th {\n",
       "        vertical-align: top;\n",
       "    }\n",
       "\n",
       "    .dataframe thead th {\n",
       "        text-align: right;\n",
       "    }\n",
       "</style>\n",
       "<table border=\"1\" class=\"dataframe\">\n",
       "  <thead>\n",
       "    <tr style=\"text-align: right;\">\n",
       "      <th></th>\n",
       "      <th>Date</th>\n",
       "      <th>State</th>\n",
       "      <th>City</th>\n",
       "      <th>Attack Type</th>\n",
       "      <th>Target Type</th>\n",
       "      <th>Casualties</th>\n",
       "      <th>Perpetrators</th>\n",
       "      <th>Weapons Used</th>\n",
       "      <th>Sources</th>\n",
       "      <th>Summary</th>\n",
       "    </tr>\n",
       "  </thead>\n",
       "  <tbody>\n",
       "    <tr>\n",
       "      <th>0</th>\n",
       "      <td>3/28/2005</td>\n",
       "      <td>Jammu and Kashmir</td>\n",
       "      <td>Pulwama</td>\n",
       "      <td>Hijacking</td>\n",
       "      <td>Public Infrastructure</td>\n",
       "      <td>40</td>\n",
       "      <td>Terrorist Group B</td>\n",
       "      <td>Explosives</td>\n",
       "      <td>https://news.example.com/8568</td>\n",
       "      <td>On 2005-03-28, a hijacking targeted public inf...</td>\n",
       "    </tr>\n",
       "    <tr>\n",
       "      <th>1</th>\n",
       "      <td>1/15/2006</td>\n",
       "      <td>West Bengal</td>\n",
       "      <td>Kolkata</td>\n",
       "      <td>Suicide Attack</td>\n",
       "      <td>Military</td>\n",
       "      <td>1</td>\n",
       "      <td>Maoist Rebels</td>\n",
       "      <td>Explosives</td>\n",
       "      <td>https://news.example.com/5309</td>\n",
       "      <td>On 2006-01-15, a suicide attack targeted milit...</td>\n",
       "    </tr>\n",
       "    <tr>\n",
       "      <th>2</th>\n",
       "      <td>8/8/2010</td>\n",
       "      <td>Maharashtra</td>\n",
       "      <td>Nagpur</td>\n",
       "      <td>Shooting</td>\n",
       "      <td>Military</td>\n",
       "      <td>4</td>\n",
       "      <td>Terrorist Group A</td>\n",
       "      <td>Explosives</td>\n",
       "      <td>https://news.example.com/9938</td>\n",
       "      <td>On 2010-08-08, a shooting targeted military in...</td>\n",
       "    </tr>\n",
       "    <tr>\n",
       "      <th>3</th>\n",
       "      <td>4/26/2001</td>\n",
       "      <td>Assam</td>\n",
       "      <td>Tezpur</td>\n",
       "      <td>Arson</td>\n",
       "      <td>Civilians</td>\n",
       "      <td>1</td>\n",
       "      <td>Terrorist Group B</td>\n",
       "      <td>Guns</td>\n",
       "      <td>https://news.example.com/8364</td>\n",
       "      <td>On 2001-04-26, a arson targeted civilians in T...</td>\n",
       "    </tr>\n",
       "    <tr>\n",
       "      <th>4</th>\n",
       "      <td>8/25/2019</td>\n",
       "      <td>Jharkhand</td>\n",
       "      <td>Dhanbad</td>\n",
       "      <td>Hijacking</td>\n",
       "      <td>Government Officials</td>\n",
       "      <td>46</td>\n",
       "      <td>Maoist Rebels</td>\n",
       "      <td>Guns</td>\n",
       "      <td>https://news.example.com/8902</td>\n",
       "      <td>On 2019-08-25, a hijacking targeted government...</td>\n",
       "    </tr>\n",
       "  </tbody>\n",
       "</table>\n",
       "</div>"
      ],
      "text/plain": [
       "        Date              State     City     Attack Type  \\\n",
       "0  3/28/2005  Jammu and Kashmir  Pulwama       Hijacking   \n",
       "1  1/15/2006        West Bengal  Kolkata  Suicide Attack   \n",
       "2   8/8/2010        Maharashtra   Nagpur        Shooting   \n",
       "3  4/26/2001              Assam   Tezpur           Arson   \n",
       "4  8/25/2019          Jharkhand  Dhanbad       Hijacking   \n",
       "\n",
       "             Target Type  Casualties       Perpetrators Weapons Used  \\\n",
       "0  Public Infrastructure          40  Terrorist Group B   Explosives   \n",
       "1               Military           1      Maoist Rebels   Explosives   \n",
       "2               Military           4  Terrorist Group A   Explosives   \n",
       "3              Civilians           1  Terrorist Group B         Guns   \n",
       "4   Government Officials          46      Maoist Rebels         Guns   \n",
       "\n",
       "                         Sources  \\\n",
       "0  https://news.example.com/8568   \n",
       "1  https://news.example.com/5309   \n",
       "2  https://news.example.com/9938   \n",
       "3  https://news.example.com/8364   \n",
       "4  https://news.example.com/8902   \n",
       "\n",
       "                                             Summary  \n",
       "0  On 2005-03-28, a hijacking targeted public inf...  \n",
       "1  On 2006-01-15, a suicide attack targeted milit...  \n",
       "2  On 2010-08-08, a shooting targeted military in...  \n",
       "3  On 2001-04-26, a arson targeted civilians in T...  \n",
       "4  On 2019-08-25, a hijacking targeted government...  "
      ]
     },
     "execution_count": 4,
     "metadata": {},
     "output_type": "execute_result"
    }
   ],
   "source": [
    "#dislpay first \n",
    "df.head()"
   ]
  },
  {
   "cell_type": "code",
   "execution_count": null,
   "id": "c671aa16",
   "metadata": {},
   "outputs": [],
   "source": []
  }
 ],
 "metadata": {
  "kernelspec": {
   "display_name": "Ml_learning_env",
   "language": "python",
   "name": "python3"
  },
  "language_info": {
   "codemirror_mode": {
    "name": "ipython",
    "version": 3
   },
   "file_extension": ".py",
   "mimetype": "text/x-python",
   "name": "python",
   "nbconvert_exporter": "python",
   "pygments_lexer": "ipython3",
   "version": "3.12.4"
  }
 },
 "nbformat": 4,
 "nbformat_minor": 5
}
